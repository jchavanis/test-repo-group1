{
  "nbformat": 4,
  "nbformat_minor": 0,
  "metadata": {
    "colab": {
      "provenance": []
    },
    "kernelspec": {
      "name": "python3",
      "display_name": "Python 3"
    },
    "language_info": {
      "name": "python"
    }
  },
  "cells": [
    {
      "cell_type": "code",
      "execution_count": 1,
      "metadata": {
        "colab": {
          "base_uri": "https://localhost:8080/"
        },
        "id": "Qb8tnX3s4egd",
        "outputId": "9474079c-c0f0-4493-9543-aa532142350b"
      },
      "outputs": [
        {
          "output_type": "stream",
          "name": "stdout",
          "text": [
            "Enter a number: 88\n",
            "positive\n"
          ]
        }
      ],
      "source": [
        "num = int(input(\"Enter a number: \"))\n",
        "\n",
        "if num>0:\n",
        "  print(\"positive\")\n",
        "else:\n",
        "  print(\"negative or zero\")"
      ]
    },
    {
      "cell_type": "markdown",
      "source": [
        "* if age < 18 you cannot watch the film\n",
        "* if age >=18 you can watch it\n",
        "* if you are over 60 you are a senior and you have a discount"
      ],
      "metadata": {
        "id": "rur1mYpY6MxL"
      }
    },
    {
      "cell_type": "code",
      "source": [
        "age = int(input(\"Enter age: \"))\n",
        "if age>18:\n",
        "  watch=True\n",
        "else:\n",
        "  watch=False\n",
        "\n",
        "if age>=60:\n",
        "  senior=True\n",
        "else:\n",
        "  senior=False\n",
        "print(age,watch,senior)"
      ],
      "metadata": {
        "colab": {
          "base_uri": "https://localhost:8080/"
        },
        "id": "NArP5uAa5wcX",
        "outputId": "5e4a0cba-daa5-4020-bb14-22a65a30eade"
      },
      "execution_count": 4,
      "outputs": [
        {
          "output_type": "stream",
          "name": "stdout",
          "text": [
            "Enter age: 45\n",
            "45 True False\n"
          ]
        }
      ]
    },
    {
      "cell_type": "markdown",
      "source": [
        "* if your score is less than 10 you fail\n",
        "* if 10-20 you pass\n",
        "* if >15 distinction\n",
        "\n",
        "If you have a distinction, you get an award"
      ],
      "metadata": {
        "id": "_bV6Y30G6fz4"
      }
    },
    {
      "cell_type": "code",
      "source": [
        "score = int(input(\"Enter a score: \"))\n",
        "if score<10:\n",
        "  Fail=True\n",
        "else:\n",
        "  Fail=False\n",
        "\n",
        "if score>15:\n",
        "  Distinction=True\n",
        "else:\n",
        "  Distinction=False\n",
        "\n",
        "print(score, Fail, Distinction)"
      ],
      "metadata": {
        "colab": {
          "base_uri": "https://localhost:8080/"
        },
        "id": "IXo1SdVg6r7n",
        "outputId": "7fca69cc-9ce9-407e-da65-1e3497b44c1f"
      },
      "execution_count": 8,
      "outputs": [
        {
          "output_type": "stream",
          "name": "stdout",
          "text": [
            "Enter a score: 18\n",
            "18 False True\n"
          ]
        }
      ]
    },
    {
      "cell_type": "markdown",
      "source": [
        "* if temp < 20 you turn on the heat\n",
        "* if the heat is on you close the windows\n",
        "* if the windows are closed, turn on the ventilation"
      ],
      "metadata": {
        "id": "COJQxDE77pov"
      }
    },
    {
      "cell_type": "code",
      "source": [
        "temp = int(input(\"Enter a temperature: \"))\n",
        "\n",
        "if temp<20:\n",
        "  heat=True\n",
        "else:\n",
        "  heat=False\n",
        "\n",
        "if heat==True:\n",
        "  windows=False\n",
        "else:\n",
        "  windows=True\n",
        "\n",
        "if windows==False:\n",
        "  ventilation=True\n",
        "else:\n",
        "  ventilation=False\n",
        "\n",
        "print(temp, heat, windows, ventilation)"
      ],
      "metadata": {
        "colab": {
          "base_uri": "https://localhost:8080/"
        },
        "id": "wqHL7i3t74S6",
        "outputId": "d98683ee-48fb-46d6-ec4e-660eacb32c02"
      },
      "execution_count": 14,
      "outputs": [
        {
          "output_type": "stream",
          "name": "stdout",
          "text": [
            "Enter a temperature: 13\n",
            "13 True False True\n"
          ]
        }
      ]
    },
    {
      "cell_type": "code",
      "source": [
        "numbers = [10,20,30,40,50,60,70,80,90]\n",
        "\n",
        "print(numbers [1])\n",
        "\n",
        "print(numbers [-2])\n",
        "\n",
        "print(numbers [0:3])\n",
        "\n",
        "print(numbers [-3:])\n",
        "\n",
        "print(numbers [4:6])"
      ],
      "metadata": {
        "colab": {
          "base_uri": "https://localhost:8080/"
        },
        "id": "e2BpLUZp9XwP",
        "outputId": "36aa6a2a-d94d-4030-bd65-ed72bf6fd417"
      },
      "execution_count": 21,
      "outputs": [
        {
          "output_type": "stream",
          "name": "stdout",
          "text": [
            "20\n",
            "80\n",
            "[10, 20, 30]\n",
            "[70, 80, 90]\n",
            "[50, 60]\n"
          ]
        }
      ]
    }
  ]
}